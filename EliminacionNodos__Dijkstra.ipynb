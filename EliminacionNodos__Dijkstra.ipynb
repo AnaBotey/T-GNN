{
 "cells": [
  {
   "cell_type": "markdown",
   "metadata": {},
   "source": [
    "### Grafo"
   ]
  },
  {
   "cell_type": "code",
   "execution_count": 1,
   "metadata": {},
   "outputs": [
    {
     "name": "stderr",
     "output_type": "stream",
     "text": [
      "C:\\Users\\Usuario\\anaconda3\\envs\\ox\\lib\\site-packages\\pyproj\\__init__.py:91: UserWarning: Valid PROJ data directory not found. Either set the path using the environmental variable PROJ_LIB or with `pyproj.datadir.set_data_dir`.\n",
      "  warnings.warn(str(err))\n"
     ]
    }
   ],
   "source": [
    "import pandas as pd\n",
    "import glob\n",
    "import pickle\n",
    "import osmnx as ox\n",
    "import networkx as nx\n",
    "import matplotlib.pyplot as plt\n",
    "import itertools\n",
    "\n",
    "path_tablas_intermedias = \"../../Codigo/data_output/graph/\"\n",
    "\n",
    "\n",
    "path = \"../../Codigo/data_output/match_sensor_edge/\"\n",
    "path_graph='../data_output/graph/graph.pickle'\n",
    "path_pd_edges='../data_output/graph/graph_edges.csv'\n",
    "\n",
    "path_save_dual_nodes = path_tablas_intermedias+\"pd_nodes_dual.csv\"  \n",
    "path_save_dual_edges = path_tablas_intermedias+\"pd_edges_dual.csv\"\n",
    "path_id_sensor_selected = \"../data_output/pd_id_sensor_selected.csv\""
   ]
  },
  {
   "cell_type": "code",
   "execution_count": 2,
   "metadata": {},
   "outputs": [
    {
     "name": "stdout",
     "output_type": "stream",
     "text": [
      "(4373, 12)\n"
     ]
    },
    {
     "data": {
      "text/plain": [
       "(1535, 14)"
      ]
     },
     "execution_count": 2,
     "metadata": {},
     "output_type": "execute_result"
    }
   ],
   "source": [
    "pd_sensor=pd.DataFrame()\n",
    "pd_sensor_selected = pd.read_csv(path_id_sensor_selected)\n",
    "\n",
    "for i in glob.glob(path+\"*.csv\"):\n",
    "    df = pd.read_csv(str(i)).drop(['Unnamed: 0'], axis=1)\n",
    "    pd_sensor = pd.concat([df, pd_sensor],axis=0)\n",
    "print(pd_sensor.shape)\n",
    "\n",
    "pd_sensor.merge(pd_sensor_selected, left_on=['id'], right_on=['id_selected'], how='inner').shape"
   ]
  },
  {
   "cell_type": "code",
   "execution_count": 4,
   "metadata": {},
   "outputs": [
    {
     "name": "stdout",
     "output_type": "stream",
     "text": [
      "== Uniendo todos los ficheros de sensores\n",
      "(4373, 14) (4373, 14)\n",
      "(1535, 16)\n",
      "== Leyendo dataset final de sensores\n"
     ]
    },
    {
     "name": "stderr",
     "output_type": "stream",
     "text": [
      "C:\\Users\\Usuario\\AppData\\Local\\Temp/ipykernel_7720/1077262688.py:46: DtypeWarning: Columns (16) have mixed types.Specify dtype option on import or set low_memory=False.\n",
      "  pd_edges = read_pd_edges_graph(path_pd_edges)\n"
     ]
    },
    {
     "name": "stdout",
     "output_type": "stream",
     "text": [
      "== Leyendo dataset final de sensores\n",
      "(195238, 35)\n",
      "== Convirtiendo a dual el grafo original\n",
      "Index(['u', 'v', 'key', 'osmid', 'oneway', 'lanes', 'name', 'highway',\n",
      "       'maxspeed', 'length', 'ref', 'junction', 'bridge', 'access', 'tunnel',\n",
      "       'est_width', 'landuse', 'width', 'geometry', 'name_node', 'pd_edges',\n",
      "       'tipo_elem', 'distrito', 'id', 'cod_cent', 'nombre', 'utm_x', 'utm_y',\n",
      "       'longitud', 'latitud', 'random_col', 'uv', 'sensor', 'Unnamed: 0',\n",
      "       'id_selected'],\n",
      "      dtype='object')\n"
     ]
    },
    {
     "name": "stderr",
     "output_type": "stream",
     "text": [
      "C:\\Users\\Usuario\\anaconda3\\envs\\ox\\lib\\site-packages\\pandas\\core\\indexing.py:1732: SettingWithCopyWarning: \n",
      "A value is trying to be set on a copy of a slice from a DataFrame\n",
      "\n",
      "See the caveats in the documentation: https://pandas.pydata.org/pandas-docs/stable/user_guide/indexing.html#returning-a-view-versus-a-copy\n",
      "  self._setitem_single_block(indexer, value, name)\n"
     ]
    },
    {
     "name": "stdout",
     "output_type": "stream",
     "text": [
      "== Operaciones para hacer explode a la tabla de aristas\n"
     ]
    }
   ],
   "source": [
    "\n",
    "def join_all_files(path, path_id_sensor_selected):\n",
    "\n",
    "    pd_sensor=pd.DataFrame()\n",
    "    pd_sensor_selected = pd.read_csv(path_id_sensor_selected)\n",
    "    \n",
    "    for i in glob.glob(path+\"*.csv\"):\n",
    "\n",
    "        df = pd.read_csv(str(i)).drop(['Unnamed: 0'], axis=1)\n",
    "        pd_sensor = pd.concat([df, pd_sensor],axis=0)\n",
    "\n",
    "    pd_sensor = pd_sensor.drop(['Unnamed: 0.1'],axis=1)    \n",
    "    pd_sensor['u'] = pd_sensor['from_to_graph'].apply(lambda x: eval(x)[0])\n",
    "    pd_sensor['v'] = pd_sensor['from_to_graph'].apply(lambda x: eval(x)[1])\n",
    "    pd_sensor['uv'] = pd_sensor['from_to_graph'].apply(lambda x: (eval(x)[0], eval(x)[1]))\n",
    "    pd_sensor['distance'] = pd_sensor['from_to_graph'].apply(lambda x: eval(x)[2])\n",
    "    pd_sensor = pd_sensor.drop(['from_to_graph', 'distance'], axis=1)\n",
    "    pd_sensor['sensor']=True\n",
    "    print(pd_sensor.drop_duplicates().shape, pd_sensor.shape)\n",
    "    pd_sensor_selected = pd_sensor.merge(pd_sensor_selected, left_on=['id'], right_on=['id_selected'], how='inner')\n",
    "    return pd_sensor_selected\n",
    "\n",
    "\n",
    "def read_pd_edges_graph(path_pd_edges):\n",
    "\n",
    "    pd_edges= pd.read_csv(path_pd_edges).drop_duplicates()\n",
    "    pd_edges['name_node']=['X'+str(i) for i in range(pd_edges.shape[0])]\n",
    "    pd_edges['pd_edges']=True\n",
    "    pd_edges = pd_edges[(pd_edges[\"name_node\"].str.contains('X', na=True))]\n",
    "    \n",
    "    return pd_edges\n",
    "\n",
    "def join_pd_edges_sensor(pd_edges, pd_sensor): \n",
    "    \n",
    "    pd_edges_f= pd_edges.merge(pd_sensor, on=['u','v'],how='left')\n",
    "    pd_edges_f = pd_edges_f[(pd_edges_f[\"name_node\"].str.contains('X', na=True))]\n",
    "    return pd_edges_f\n",
    "\n",
    "\n",
    "\n",
    "def convert_to_dual_graph(path, path_id_sensor_selected, path_pd_edges):\n",
    "    \n",
    "    print(\"== Uniendo todos los ficheros de sensores\")\n",
    "    pd_sensor=join_all_files(path, path_id_sensor_selected)\n",
    "    print(pd_sensor.shape)\n",
    "    print(\"== Leyendo dataset final de sensores\")\n",
    "    pd_edges = read_pd_edges_graph(path_pd_edges)\n",
    "    print(\"== Leyendo dataset final de sensores\")\n",
    "    pd_edges_f = join_pd_edges_sensor(pd_edges, pd_sensor)\n",
    "    print(pd_edges_f.shape)\n",
    "    print(\"== Convirtiendo a dual el grafo original\")\n",
    "    pd_edges_dual = pd.DataFrame()\n",
    "    pd_edges_dual['from']=list(range(pd_edges_f.shape[0]))\n",
    "    pd_edges_dual['to']=list(range(pd_edges_f.shape[0]))\n",
    "    pd_edges_dual['length']=None\n",
    "    pd_edges_dual['id']=None\n",
    "    pd_edges_dual['sensor']=None\n",
    "    print(pd_edges_f.columns)\n",
    "    for i in range(pd_edges.shape[0]):\n",
    "\n",
    "        pd_edges_dual['from'].iloc[i]=pd_edges_f['name_node'].iloc[i]\n",
    "        pd_edges_dual['to'].iloc[i]=str(list(pd_edges_f['name_node'][pd_edges_f['u']==pd_edges_f['v'].iloc[i]].values))\n",
    "        pd_edges_dual['length'].iloc[i] = pd_edges_f['length'].iloc[i]\n",
    "        pd_edges_dual['id'].iloc[i] = pd_edges_f['id'].iloc[i]\n",
    "        pd_edges_dual['sensor'].iloc[i] = pd_edges_f['sensor'].iloc[i]\n",
    "        \n",
    "    pd_edges_dual = pd_edges_dual[(pd_edges_dual[\"from\"].str.contains('X', na=False))]\n",
    "    print(\"== Operaciones para hacer explode a la tabla de aristas\")\n",
    "    # print(pd_edges_dual['to'].head())\n",
    "    pd_edges_dual['to'] = pd_edges_dual['to'].apply(lambda x: eval(x))\n",
    "    pd_edges_dual_final = pd_edges_dual.explode('to').drop_duplicates()\n",
    "    pd_nodes_dual_final = pd_edges.copy()\n",
    "    \n",
    "    return pd_edges_dual_final, pd_nodes_dual_final\n",
    "\n",
    "\n",
    "def proc_save_dual_graph_nodes_edges(path, path_pd_edges, path_save_dual_nodes, path_save_dual_edges):\n",
    "    \n",
    "    pd_edges_dual_final, pd_nodes_dual_final = convert_to_dual_graph(path, path_id_sensor_selected, path_pd_edges)\n",
    "    pd_nodes_dual_final.to_csv(path_save_dual_nodes)\n",
    "    pd_edges_dual_final.to_csv(path_save_dual_edges)\n",
    "    \n",
    "    return pd_edges_dual_final, pd_nodes_dual_final\n",
    "    \n",
    "pd_edges_dual_final, pd_nodes_dual_final = proc_save_dual_graph_nodes_edges(path, path_pd_edges, \n",
    "                                                                            path_save_dual_nodes, path_save_dual_edges)\n",
    "# pd_sensor.head(2)"
   ]
  },
  {
   "cell_type": "code",
   "execution_count": 5,
   "metadata": {},
   "outputs": [
    {
     "data": {
      "text/plain": [
       "(2199, 5)"
      ]
     },
     "execution_count": 5,
     "metadata": {},
     "output_type": "execute_result"
    }
   ],
   "source": [
    "pd_edges_dual_final[pd_edges_dual_final['sensor']==True].shape"
   ]
  },
  {
   "cell_type": "markdown",
   "metadata": {},
   "source": [
    "### Algoritmo de eliminación de nodos"
   ]
  },
  {
   "cell_type": "code",
   "execution_count": 6,
   "metadata": {},
   "outputs": [
    {
     "name": "stdout",
     "output_type": "stream",
     "text": [
      "[(10, {20: {'weight': 1}}), (20, {30: {'weight': 1}, 80: {'weight': 1}, 1: {'weight': 1}}), (11, {20: {'weight': 1}}), (30, {40: {'weight': 1}}), (80, {}), (1, {}), (40, {})]\n",
      "=============== 20 ===============\n",
      "20 [(10, {30: {'weight': 2}, 80: {'weight': 2}, 1: {'weight': 2}}), (11, {30: {'weight': 2}, 80: {'weight': 2}, 1: {'weight': 2}}), (30, {40: {'weight': 1}}), (80, {}), (1, {}), (40, {})]\n",
      "=============== 30 ===============\n",
      "30 [(10, {80: {'weight': 2}, 1: {'weight': 2}, 40: {'weight': 3}}), (11, {80: {'weight': 2}, 1: {'weight': 2}, 40: {'weight': 3}}), (80, {}), (1, {}), (40, {})]\n"
     ]
    },
    {
     "data": {
      "image/png": "[encoded data removed]",
      "text/plain": [
       "<Figure size 432x288 with 2 Axes>"
      ]
     },
     "metadata": {},
     "output_type": "display_data"
    }
   ],
   "source": [
    "\n",
    "def remove_node(g, node):\n",
    "    \n",
    "    if g.is_directed():\n",
    "        sources = [source for source, _ in g.in_edges(node)]\n",
    "        targets = [target for _, target in g.out_edges(node)]\n",
    "    else:\n",
    "        sources = g.neighbors(node)\n",
    "        targets = g.neighbors(node)\n",
    "\n",
    "    new_edges = itertools.product(sources, targets)\n",
    "    last_edges = itertools.product(sources, [node])\n",
    "    last_weights = [(u, v, g[u][v]['weight']) for (u, v) in last_edges]\n",
    "    target_edges = itertools.product([node], targets)\n",
    "    target_weights = [(u, v, g[u][v]['weight']) for (u, v) in target_edges]\n",
    "    \n",
    "    weights = []\n",
    "    #if len(last_weights)!=0:\n",
    "    for i in range(len(last_weights)):\n",
    "        for j in range(len(target_weights)):\n",
    "            if (last_weights[i][1]==target_weights[j][0]):\n",
    "                weights.append((last_weights[i][0], target_weights[j][1], \n",
    "                                    last_weights[i][2]+target_weights[j][2]))\n",
    "\n",
    "    new_edges = [(source, target) for source, target in new_edges if source != target] # remove self-loops\n",
    "\n",
    "    g.add_edges_from(new_edges)\n",
    "    g.remove_node(node)\n",
    "    list_edges = [e for e in g.edges()]\n",
    "    list_edges_weight = [(e[0], e[1]) for e in weights]\n",
    "    set_list_edges = list(set(list_edges)-set(list_edges_weight))\n",
    "    list_weights_set_list_edges = [(u, v, g[u][v]['weight']) for (u, v) in set_list_edges if nx.is_weighted(g, (u, v))]\n",
    "    final_weights = weights+list_weights_set_list_edges\n",
    "\n",
    "    g.add_weighted_edges_from(final_weights)\n",
    "\n",
    "    return g\n",
    "\n"
   ]
  },
  {
   "cell_type": "code",
   "execution_count": null,
   "metadata": {},
   "outputs": [],
   "source": [
    "## Ejemplo sobre un grafo sencillo\n",
    "\n",
    "edges = [(10, 20), (11,20),(20, 30), (20, 80),(20,1),(30, 40)]\n",
    "g = nx.DiGraph()\n",
    "g.add_edges_from(edges)\n",
    "nx.set_edge_attributes(g, values = 1, name = 'weight')\n",
    "\n",
    "fig, (ax1, ax2) = plt.subplots(1, 2)  \n",
    "nx.draw_networkx(g, with_labels=True, ax=ax1)\n",
    "\n",
    "\n",
    "nx.set_edge_attributes(g, values = 1, name = 'weight')\n",
    "print(list(g.adjacency()))\n",
    "print(\"=============== 20 ===============\")\n",
    "g = remove_node(g, 20)\n",
    "print('20',list(g.adjacency()))\n",
    "print(\"=============== 30 ===============\")\n",
    "g = remove_node(g, 30)\n",
    "print('30',list(g.adjacency()))\n",
    "nx.draw_networkx(g, with_labels=True, ax=ax2)\n",
    "plt.show()"
   ]
  },
  {
   "cell_type": "code",
   "execution_count": 7,
   "metadata": {},
   "outputs": [
    {
     "data": {
      "text/plain": [
       "[(10, {80: {'weight': 2}, 1: {'weight': 2}, 40: {'weight': 3}}),\n",
       " (11, {80: {'weight': 2}, 1: {'weight': 2}, 40: {'weight': 3}}),\n",
       " (80, {}),\n",
       " (1, {}),\n",
       " (40, {})]"
      ]
     },
     "execution_count": 7,
     "metadata": {},
     "output_type": "execute_result"
    }
   ],
   "source": [
    "list(g.adjacency())"
   ]
  },
  {
   "cell_type": "markdown",
   "metadata": {},
   "source": [
    "### Algoritmo de Dijsktra para encontrar el camino mínimo"
   ]
  },
  {
   "cell_type": "code",
   "execution_count": null,
   "metadata": {
    "scrolled": true
   },
   "outputs": [
    {
     "name": "stdout",
     "output_type": "stream",
     "text": [
      "2196324\n",
      "935000\n",
      "940000\n",
      "945000\n",
      "950000\n",
      "955000\n",
      "960000\n",
      "965000\n",
      "970000\n",
      "975000\n",
      "980000\n",
      "985000\n",
      "990000\n",
      "995000\n",
      "1000000\n",
      "1005000\n",
      "1010000\n",
      "1015000\n",
      "1020000\n",
      "1025000\n",
      "1030000\n",
      "1035000\n",
      "1040000\n",
      "1045000\n",
      "1050000\n",
      "1055000\n",
      "1060000\n",
      "1065000\n",
      "1070000\n",
      "1075000\n",
      "1080000\n",
      "1085000\n"
     ]
    }
   ],
   "source": [
    "%%time\n",
    "import itertools\n",
    "import networkx as nx\n",
    "\n",
    "list_sensor= list(pd_edges_dual_final['from'][pd_edges_dual_final['sensor']==True].unique())\n",
    "list_sensor\n",
    "result = list(itertools.product(list_sensor,list_sensor))\n",
    "print(len(result))\n",
    "pd_path_sensor = pd.read_csv('pd_path_sensor_shortest2_path_935000.csv')\n",
    "\n",
    "j=0\n",
    "for i in result:\n",
    "    if j%5000==0:\n",
    "        print(j)\n",
    "        pd_path_sensor.to_csv('pd_path_sensor_shortest2_path_'+str(j)+'.csv')\n",
    "    pd_path_sensor.loc[j,'from']=i[0]\n",
    "    pd_path_sensor.loc[j, 'to']=i[1]\n",
    "    pd_path_sensor.loc[j, 'shortest_path'] = str(nx.single_source_dijkstra(g_ini, source=i[0], target=i[1]))\n",
    "    j=j+1\n",
    "    "
   ]
  }
 ],
 "metadata": {
  "kernelspec": {
   "display_name": "ox",
   "language": "python",
   "name": "ox"
  },
  "language_info": {
   "codemirror_mode": {
    "name": "ipython",
    "version": 3
   },
   "file_extension": ".py",
   "mimetype": "text/x-python",
   "name": "python",
   "nbconvert_exporter": "python",
   "pygments_lexer": "ipython3",
   "version": "3.10.1"
  }
 },
 "nbformat": 4,
 "nbformat_minor": 4
}
